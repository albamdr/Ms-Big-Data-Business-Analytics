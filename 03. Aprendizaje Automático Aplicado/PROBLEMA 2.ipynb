{
 "cells": [
  {
   "cell_type": "markdown",
   "metadata": {},
   "source": [
    "# Enunciado problema 2"
   ]
  },
  {
   "cell_type": "markdown",
   "metadata": {},
   "source": [
    "Crea un conjunto de datos utilizando el siguiente código:\n",
    "\n",
    "trX = np.linspace(-1, 1, 101)\n",
    "\n",
    "trY = np.linspace(-1, 1, 101)\n",
    "\n",
    "for i in range(len(trY)):\n",
    "\n",
    "trY[i] = math.log(1 + 0.5 * abs(trX[i])) + trX[i] / 3 + np.random.randn() * 0.033\n",
    "\n",
    "Ahora, utiliza Theano para obtener los parámetros w_0 y w_1 del siguiente modelo:\n",
    "\n",
    "y = log(1 + w_0|x|) + w_1x\n",
    "\n",
    "utilizando los datos generados anteriormente."
   ]
  },
  {
   "cell_type": "code",
   "execution_count": 1,
   "metadata": {},
   "outputs": [
    {
     "name": "stdout",
     "output_type": "stream",
     "text": [
      "Using matplotlib backend: Qt5Agg\n",
      "Populating the interactive namespace from numpy and matplotlib\n"
     ]
    }
   ],
   "source": [
    "%pylab\n",
    "%matplotlib inline\n",
    "\n",
    "%config InlineBackend.figure_format = 'retina'"
   ]
  },
  {
   "cell_type": "markdown",
   "metadata": {},
   "source": [
    "## Imports\n",
    "\n",
    "Importamos los módulos necesarios para resolver el problema"
   ]
  },
  {
   "cell_type": "code",
   "execution_count": 2,
   "metadata": {},
   "outputs": [],
   "source": [
    "import numpy as np\n",
    "import math\n",
    "import theano\n",
    "import theano.tensor as T"
   ]
  },
  {
   "cell_type": "markdown",
   "metadata": {},
   "source": [
    "## Creación del conjunto de datos"
   ]
  },
  {
   "cell_type": "code",
   "execution_count": 3,
   "metadata": {},
   "outputs": [],
   "source": [
    "trX = np.linspace(-1, 1, 101)\n",
    "trY = np.linspace(-1, 1, 101)\n",
    "\n",
    "for i in range(len(trY)):\n",
    "    trY[i] = math.log(1 + 0.5 * abs(trX[i])) + trX[i] / 3 + np.random.randn() * 0.033"
   ]
  },
  {
   "cell_type": "markdown",
   "metadata": {},
   "source": [
    "## Creación del modelo"
   ]
  },
  {
   "cell_type": "code",
   "execution_count": 4,
   "metadata": {},
   "outputs": [],
   "source": [
    "X = T.scalar()\n",
    "Y = T.scalar()\n",
    "\n",
    "def model(X, w_0, w_1):\n",
    "    return log(1 + w_0 * abs(X)) + w_1 * X\n",
    "\n",
    "w_0 = theano.shared(np.asarray(0., dtype = theano.config.floatX))\n",
    "w_1 = theano.shared(np.asarray(0., dtype = theano.config.floatX))\n",
    "y = model(X, w_0, w_1)"
   ]
  },
  {
   "cell_type": "markdown",
   "metadata": {},
   "source": [
    "## Definición de la función de coste, gradientes y updates de los pesos"
   ]
  },
  {
   "cell_type": "code",
   "execution_count": 5,
   "metadata": {},
   "outputs": [],
   "source": [
    "cost     = T.mean(T.sqr(y - Y))\n",
    "gradient_w_1= T.grad(cost = cost, wrt = w_1)\n",
    "gradient_w_0= T.grad(cost = cost, wrt = w_0)\n",
    "updates  = [[w_1, w_1- gradient_w_1* 0.01], [w_0, w_0- gradient_w_0* 0.01]]"
   ]
  },
  {
   "cell_type": "markdown",
   "metadata": {},
   "source": [
    "## Train del modelo"
   ]
  },
  {
   "cell_type": "code",
   "execution_count": 6,
   "metadata": {},
   "outputs": [],
   "source": [
    "train = theano.function(inputs = [X, Y], outputs = cost, updates = updates)"
   ]
  },
  {
   "cell_type": "markdown",
   "metadata": {},
   "source": [
    "## Obtención de los parámetros del módelo"
   ]
  },
  {
   "cell_type": "code",
   "execution_count": 7,
   "metadata": {},
   "outputs": [
    {
     "name": "stdout",
     "output_type": "stream",
     "text": [
      "0.491209257671076 0.3266729964086645\n"
     ]
    }
   ],
   "source": [
    "for i in range(100):\n",
    "    for x, y in zip(trX, trY):\n",
    "        cost_i = train(x, y)\n",
    "        \n",
    "w_0 = float(w_0.get_value())\n",
    "w_1 = float(w_1.get_value())\n",
    "print(w_0, w_1)"
   ]
  },
  {
   "cell_type": "code",
   "execution_count": null,
   "metadata": {},
   "outputs": [],
   "source": []
  },
  {
   "cell_type": "code",
   "execution_count": null,
   "metadata": {},
   "outputs": [],
   "source": []
  }
 ],
 "metadata": {
  "kernelspec": {
   "display_name": "Python 3",
   "language": "python",
   "name": "python3"
  },
  "language_info": {
   "codemirror_mode": {
    "name": "ipython",
    "version": 3
   },
   "file_extension": ".py",
   "mimetype": "text/x-python",
   "name": "python",
   "nbconvert_exporter": "python",
   "pygments_lexer": "ipython3",
   "version": "3.8.3"
  }
 },
 "nbformat": 4,
 "nbformat_minor": 4
}
